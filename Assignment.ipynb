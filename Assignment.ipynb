{
 "cells": [
  {
   "cell_type": "markdown",
   "metadata": {},
   "source": [
    "<b>1.Given a number, find the sum of its digits. Take the number as an input from the user.</b>"
   ]
  },
  {
   "cell_type": "code",
   "execution_count": 17,
   "metadata": {},
   "outputs": [
    {
     "name": "stdout",
     "output_type": "stream",
     "text": [
      "Enter Number:12345\n",
      "15\n",
      "15\n"
     ]
    }
   ],
   "source": [
    "def sumofDigits_1(n):\n",
    "    total=0\n",
    "    for i in str(n):\n",
    "        total += int(i)\n",
    "    return total \n",
    "    \n",
    "def sumofDigits_2(num):\n",
    "    n=int(num)\n",
    "    total=0   \n",
    "    while n!=0:\n",
    "        total += int(n%10)\n",
    "        n = n/10\n",
    "        \n",
    "    return total\n",
    "    \n",
    "getInputfromUser = input(\"Enter Number:\")\n",
    "sumResult_1=sumofDigits_1(getInputfromUser)    \n",
    "print(sumResult_1)\n",
    "sumResult_2=sumofDigits_2(getInputfromUser)\n",
    "print(sumResult_2)"
   ]
  },
  {
   "cell_type": "markdown",
   "metadata": {},
   "source": [
    "<b>2. Given a number, check whether the given number is an\n",
    "Armstrong number or not. A positive integer is called an\n",
    "Armstrong number of order n if:\n",
    "abcd... = an\n",
    " + bn + cn\n",
    " + dn\n",
    " + ...\n",
    "Example: 153 = 1*1*1 + 5*5*5 + 3*3*3\n",
    "153 is an Armstrong number of order 3.\n",
    "Inputs from the user will be number and order n.</b>"
   ]
  },
  {
   "cell_type": "code",
   "execution_count": null,
   "metadata": {},
   "outputs": [],
   "source": [
    "number=input('Enter number:')\n",
    "\n",
    "originalnumber=int(number)\n",
    "n=len(number)\n",
    "temp=int(number)\n",
    "total = 0\n",
    "\n",
    "while temp!=0:\n",
    "    total = total + (int(temp%10)**n)\n",
    "    temp = int(temp) / 10\n",
    "    \n",
    "if originalnumber == total:\n",
    "    print('Armstrong')\n",
    "else:\n",
    "    print('Not Armstrong')\n",
    "    "
   ]
  },
  {
   "cell_type": "markdown",
   "metadata": {},
   "source": [
    "<b>8. Input a text file (containing 1 or more paragraphs of English\n",
    "text) from the user, parse this file to display the frequency of\n",
    "occurrence of each word in this text file. Find the 3 most frequent\n",
    "words as well.</b>"
   ]
  },
  {
   "cell_type": "code",
   "execution_count": null,
   "metadata": {},
   "outputs": [],
   "source": [
    "file=open('a.txt')\n",
    "filecontent=file.read()\n",
    "\n",
    "filesplitbynewline=filecontent.split(\"\\n\")\n",
    "linenum=0\n",
    "wordlist=[]\n",
    "wordcount=[]\n",
    "\n",
    "for line in filesplitbynewline:\n",
    "    wordsplit=line.split()\n",
    "    \n",
    "    for word in wordsplit:\n",
    "        if word in wordlist:\n",
    "            wordindex=wordlist.index(word)\n",
    "            wordcount[wordindex]=wordcount[wordindex]+1\n",
    "        else:\n",
    "            wordlist.append(word)\n",
    "            wordcount.append(1)\n",
    "            \n",
    "    linenum=linenum+1\n",
    "\n",
    "for key,findword in enumerate(wordlist):\n",
    "    print(findword,'=>',wordcount[key])\n",
    "    "
   ]
  },
  {
   "cell_type": "markdown",
   "metadata": {},
   "source": [
    "<b>3. Given a string, write a python function to check if it is\n",
    "palindrome or not. A string is said to be palindrome if the reverse\n",
    "of the string is the same as string. For example, “malayalam” is a\n",
    "palindrome, but “music” is not a palindrome.</b>"
   ]
  },
  {
   "cell_type": "code",
   "execution_count": 20,
   "metadata": {},
   "outputs": [
    {
     "name": "stdout",
     "output_type": "stream",
     "text": [
      "Enter String: madam\n",
      "Method1=> madam  is a Palindrome\n",
      "Method2=> madam  is a Palindrome\n"
     ]
    }
   ],
   "source": [
    "\n",
    "def Method1(string):\n",
    "    reverseString=string[::-1]\n",
    "    if string==reverseString:\n",
    "        print(\"Method1=>\",string,\" is a Palindrome\")\n",
    "    else:\n",
    "        print(\"Method1=>\",string,\" is not a Palindrome\")\n",
    "    \n",
    "def Method2(string):\n",
    "    originalString=string\n",
    "    reverseString=\"\"\n",
    "    for i in range(len(originalString),0,-1):\n",
    "        reverseString += string[i-1]\n",
    "    if originalString==reverseString:\n",
    "         print(\"Method2=>\",string,\" is a Palindrome\")\n",
    "    else:\n",
    "         print(\"Method2=>\",string,\" is not a Palindrome\")\n",
    "    \n",
    "    \n",
    "string=input(\"Enter String: \")    \n",
    "Method1(string)\n",
    "Method2(string)"
   ]
  },
  {
   "cell_type": "markdown",
   "metadata": {},
   "source": [
    "<b>7. Searching: Given a sorted array arr[] of n elements, write a\n",
    "function to search a given element x in arr[]. Do it using linear\n",
    "and binary search techniques</b>"
   ]
  },
  {
   "cell_type": "code",
   "execution_count": 48,
   "metadata": {},
   "outputs": [
    {
     "name": "stdout",
     "output_type": "stream",
     "text": [
      "Enter element to search:5\n",
      "Number Found in  4 Position\n",
      "Number found in  4 position\n"
     ]
    }
   ],
   "source": [
    "def linearsearch(arr,last,n):\n",
    "    for i in range(last):\n",
    "        if arr[i] == n:\n",
    "            return i\n",
    "    return -1\n",
    "    \n",
    "     \n",
    "        \n",
    "def BinarySearch(arr,index,lastele,x):\n",
    "    \n",
    "    if lastele >= index:\n",
    "        \n",
    "        findmid = index + (lastele - index ) // 2\n",
    "        \n",
    "        if arr[findmid]==x:\n",
    "            \n",
    "             return findmid\n",
    "        \n",
    "        \n",
    "        elif arr[findmid] > x:\n",
    "            \n",
    "             return BinarySearch(arr,index-1,lastele,x)\n",
    "        else:\n",
    "             return BinarySearch(arr,index+1,lastele,x)\n",
    "        \n",
    "    else:\n",
    "        return -1\n",
    "        \n",
    "  \n",
    "    \n",
    "        \n",
    "arr=[1,2,3,4,5,6]\n",
    "n=int(input(\"Enter element to search:\"))\n",
    "lastelement=len(arr)-1\n",
    "lastElement=len(arr)\n",
    "y = linearsearch(arr,lastElement,n)\n",
    "if y == -1:\n",
    "    print(\"Number not found\")\n",
    "else:\n",
    "    print(\"Number Found in \",y, \"Position\")\n",
    "    \n",
    "x = BinarySearch(arr,0,lastelement,n)\n",
    "if x==-1:\n",
    "    print('Number Not found')\n",
    "else:\n",
    "    print('Number found in ', x ,'position')\n",
    "\n"
   ]
  },
  {
   "cell_type": "markdown",
   "metadata": {},
   "source": [
    "<b>4. Given an array which may contain duplicates, print all elements\n",
    "and their frequencies.</b>"
   ]
  },
  {
   "cell_type": "code",
   "execution_count": 52,
   "metadata": {},
   "outputs": [
    {
     "name": "stdout",
     "output_type": "stream",
     "text": [
      "1 => 1\n",
      "2 => 1\n",
      "3 => 1\n",
      "4 => 1\n",
      "5 => 2\n",
      "8 => 1\n"
     ]
    }
   ],
   "source": [
    "def CountFrequency(arr,n):\n",
    "    findFrequency={}\n",
    "    for i in range(n):\n",
    "        if arr[i] in findFrequency.keys():\n",
    "            findFrequency[arr[i]]+=1\n",
    "        else:\n",
    "            findFrequency[arr[i]]=1\n",
    "    \n",
    "    \n",
    "    for i in findFrequency:\n",
    "        print(i,'=>',findFrequency[i])\n",
    "    \n",
    "    \n",
    "    \n",
    "arr=[1,2,3,4,5,5,8]\n",
    "n=len(arr)\n",
    "CountFrequency(arr,n)"
   ]
  },
  {
   "cell_type": "code",
   "execution_count": null,
   "metadata": {},
   "outputs": [],
   "source": []
  },
  {
   "cell_type": "markdown",
   "metadata": {},
   "source": [
    "<b>5. Given a number n, write a function to print all prime factors of\n",
    "n. For example, if the input number is 12, then output should be\n",
    "“2 2 3”.</b>"
   ]
  },
  {
   "cell_type": "code",
   "execution_count": 20,
   "metadata": {},
   "outputs": [
    {
     "name": "stdout",
     "output_type": "stream",
     "text": [
      "Entere number:100\n",
      "2\n",
      "2\n",
      "5\n",
      "5\n"
     ]
    }
   ],
   "source": [
    "def findnumbers(n):\n",
    "    while n % 2 == 0:\n",
    "        print(2)\n",
    "        n = int(n/2)\n",
    "    #print(n)\n",
    "    for i in range(3,(n//2)+1):\n",
    "        if n%i == 0:\n",
    "            print(i)\n",
    "            n=int(n/i)\n",
    "    if n > 2:\n",
    "        print(n)\n",
    "        \n",
    "\n",
    "n = int(input('Entere number:'))\n",
    "findnumbers(n)"
   ]
  },
  {
   "cell_type": "markdown",
   "metadata": {},
   "source": [
    "<b>6. Given two numbers n and r, find the value of nCr (binomial\n",
    "coefficient: nCr = (n!) / (r! * (n-r)!))</b>"
   ]
  },
  {
   "cell_type": "code",
   "execution_count": 63,
   "metadata": {},
   "outputs": [
    {
     "name": "stdout",
     "output_type": "stream",
     "text": [
      "Enter n:4\n",
      "Enter r:2\n",
      "6\n"
     ]
    }
   ],
   "source": [
    "def ncr(n,r):\n",
    "    return (factorial(n) / (factorial(r) * factorial(n-r)))\n",
    "    \n",
    "def factorial(n):\n",
    "    result=1\n",
    "    for i in range(2,n+1):\n",
    "        result= result * i\n",
    "    return result\n",
    "\n",
    "n=int(input('Enter n:'))\n",
    "r=int(input('Enter r:'))\n",
    "res=int(ncr(n,r))\n",
    "print(res)\n",
    "\n",
    "    \n"
   ]
  },
  {
   "cell_type": "code",
   "execution_count": null,
   "metadata": {},
   "outputs": [],
   "source": []
  }
 ],
 "metadata": {
  "kernelspec": {
   "display_name": "Python 3",
   "language": "python",
   "name": "python3"
  },
  "language_info": {
   "codemirror_mode": {
    "name": "ipython",
    "version": 3
   },
   "file_extension": ".py",
   "mimetype": "text/x-python",
   "name": "python",
   "nbconvert_exporter": "python",
   "pygments_lexer": "ipython3",
   "version": "3.8.5"
  }
 },
 "nbformat": 4,
 "nbformat_minor": 4
}
